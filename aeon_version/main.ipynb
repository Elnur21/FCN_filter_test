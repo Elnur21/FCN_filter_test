{
 "cells": [
  {
   "cell_type": "code",
   "execution_count": 8,
   "metadata": {},
   "outputs": [],
   "source": [
    "import pandas as pd\n",
    "def read_dataset(dataset_name):\n",
    "    try:\n",
    "        datasets_dict = {}\n",
    "        cur_root_dir = '/home/elnur/Desktop/UCRArchive_2018'\n",
    "        root_dir_dataset = cur_root_dir + '/' + dataset_name + '/'\n",
    "\n",
    "        df_train = pd.read_csv(root_dir_dataset + dataset_name +\n",
    "                            '_TRAIN.tsv', sep='\\t', header=None)\n",
    "        df_test = pd.read_csv(root_dir_dataset + dataset_name +\n",
    "                            '_TEST.tsv', sep='\\t', header=None)\n",
    "\n",
    "        y_train = df_train.values[:, 0]\n",
    "        y_test = df_test.values[:, 0]\n",
    "\n",
    "        x_train = df_train.drop(columns=[0])\n",
    "        x_test = df_test.drop(columns=[0])\n",
    "\n",
    "        x_train.columns = range(x_train.shape[1])\n",
    "        x_test.columns = range(x_test.shape[1])\n",
    "\n",
    "        x_train = x_train.values\n",
    "        x_test = x_test.values\n",
    "\n",
    "        # znorm\n",
    "        std_ = x_train.std(axis=1, keepdims=True)\n",
    "        std_[std_ == 0] = 1.0\n",
    "        x_train = (x_train - x_train.mean(axis=1, keepdims=True)) / std_\n",
    "\n",
    "        std_ = x_test.std(axis=1, keepdims=True)\n",
    "        std_[std_ == 0] = 1.0\n",
    "        x_test = (x_test - x_test.mean(axis=1, keepdims=True)) / std_\n",
    "\n",
    "        datasets_dict[dataset_name] = (x_train.copy(), y_train.copy(), x_test.copy(),\n",
    "                                    y_test.copy())\n",
    "\n",
    "        return datasets_dict[dataset_name]\n",
    "    except:\n",
    "        print(\"Error fetching data\")\n",
    "        return [None]\n"
   ]
  },
  {
   "cell_type": "code",
   "execution_count": 12,
   "metadata": {},
   "outputs": [],
   "source": [
    "import numpy as np"
   ]
  },
  {
   "cell_type": "code",
   "execution_count": 16,
   "metadata": {},
   "outputs": [
    {
     "data": {
      "text/plain": [
       "array(['1'], dtype='<U1')"
      ]
     },
     "execution_count": 16,
     "metadata": {},
     "output_type": "execute_result"
    }
   ],
   "source": [
    "np.array(([\"1\",\"2\"]))[:1]"
   ]
  },
  {
   "cell_type": "code",
   "execution_count": null,
   "metadata": {},
   "outputs": [],
   "source": []
  }
 ],
 "metadata": {
  "kernelspec": {
   "display_name": "env",
   "language": "python",
   "name": "python3"
  },
  "language_info": {
   "codemirror_mode": {
    "name": "ipython",
    "version": 3
   },
   "file_extension": ".py",
   "mimetype": "text/x-python",
   "name": "python",
   "nbconvert_exporter": "python",
   "pygments_lexer": "ipython3",
   "version": "3.10.12"
  }
 },
 "nbformat": 4,
 "nbformat_minor": 2
}
