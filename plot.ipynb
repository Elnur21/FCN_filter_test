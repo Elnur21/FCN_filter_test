{
 "cells": [
  {
   "cell_type": "code",
   "execution_count": 7,
   "metadata": {},
   "outputs": [],
   "source": [
    "import tensorflow.keras as keras\n",
    "from utils.constants import *\n",
    "import numpy as np\n",
    "\n",
    "from utils.helper import *\n",
    "\n",
    "for dataset_name in np.array(UNIVARIATE_DATASET_NAMES_2018)[:20]:\n",
    "    output_directory = 'results/' + dataset_name + '/'\n",
    "    output_directory_test = 'results_reverse/' + dataset_name + '/'\n",
    "    model_train = keras.models.load_model(output_directory+'best_model.hdf5')\n",
    "    model_test = keras.models.load_model(output_directory_test+'best_model.hdf5')\n",
    "    plot_filters(model_train, model_test, dataset_name)"
   ]
  }
 ],
 "metadata": {
  "kernelspec": {
   "display_name": "env",
   "language": "python",
   "name": "python3"
  },
  "language_info": {
   "codemirror_mode": {
    "name": "ipython",
    "version": 3
   },
   "file_extension": ".py",
   "mimetype": "text/x-python",
   "name": "python",
   "nbconvert_exporter": "python",
   "pygments_lexer": "ipython3",
   "version": "3.10.12"
  }
 },
 "nbformat": 4,
 "nbformat_minor": 2
}
